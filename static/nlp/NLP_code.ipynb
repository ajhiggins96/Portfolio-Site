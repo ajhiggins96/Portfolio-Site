{
  "cells": [
    {
      "cell_type": "markdown",
      "metadata": {
        "id": "JBNtLFnDPZI6"
      },
      "source": [
        "### Installs and Imports"
      ]
    },
    {
      "cell_type": "code",
      "execution_count": null,
      "metadata": {
        "id": "zT39RyugO9yK"
      },
      "outputs": [],
      "source": [
        "!pip install -q transformers"
      ]
    },
    {
      "cell_type": "code",
      "execution_count": null,
      "metadata": {
        "id": "pTnG0uyqPJ0D"
      },
      "outputs": [],
      "source": [
        "import re\n",
        "import json\n",
        "import numpy as np\n",
        "import pandas as pd\n",
        "\n",
        "import tensorflow as tf\n",
        "from tensorflow import keras\n",
        "import tensorflow_datasets as tfds\n",
        "\n",
        "from transformers import AutoTokenizer, TFAutoModel\n",
        "from transformers import logging\n",
        "logging.set_verbosity_error()  # skip warnings\n",
        "\n",
        "import seaborn as sns\n",
        "import matplotlib.pyplot as plt\n",
        "from sklearn.metrics import classification_report"
      ]
    },
    {
      "cell_type": "code",
      "execution_count": null,
      "metadata": {
        "colab": {
          "base_uri": "https://localhost:8080/"
        },
        "id": "QXDRSNvSQcJj",
        "outputId": "1061f80d-7128-4fb5-d901-f2adb5ac4907"
      },
      "outputs": [
        {
          "name": "stdout",
          "output_type": "stream",
          "text": [
            "Drive already mounted at /content/drive; to attempt to forcibly remount, call drive.mount(\"/content/drive\", force_remount=True).\n"
          ]
        }
      ],
      "source": [
        "from google.colab import drive\n",
        "drive.mount('/content/drive')"
      ]
    },
    {
      "cell_type": "markdown",
      "metadata": {
        "id": "CXUfG2cZ7eyH"
      },
      "source": [
        "# BoolQ Dataset"
      ]
    },
    {
      "cell_type": "markdown",
      "metadata": {
        "id": "sukigOWjPimP"
      },
      "source": [
        "### Download, Extract, and Load the bool_q dataset"
      ]
    },
    {
      "cell_type": "code",
      "execution_count": null,
      "metadata": {
        "id": "1lctd1LIPlRk"
      },
      "outputs": [],
      "source": [
        "boolq, boolq_info = tfds.load('bool_q', with_info=True)"
      ]
    },
    {
      "cell_type": "code",
      "execution_count": null,
      "metadata": {
        "colab": {
          "base_uri": "https://localhost:8080/"
        },
        "id": "J7_j4Q8RPumV",
        "outputId": "ac6033db-27a7-4ab4-cc1f-ba6a802a3aac"
      },
      "outputs": [
        {
          "data": {
            "text/plain": [
              "{Split('train'): <_PrefetchDataset element_spec={'answer': TensorSpec(shape=(), dtype=tf.bool, name=None), 'passage': TensorSpec(shape=(), dtype=tf.string, name=None), 'question': TensorSpec(shape=(), dtype=tf.string, name=None), 'title': TensorSpec(shape=(), dtype=tf.string, name=None)}>,\n",
              " Split('validation'): <_PrefetchDataset element_spec={'answer': TensorSpec(shape=(), dtype=tf.bool, name=None), 'passage': TensorSpec(shape=(), dtype=tf.string, name=None), 'question': TensorSpec(shape=(), dtype=tf.string, name=None), 'title': TensorSpec(shape=(), dtype=tf.string, name=None)}>}"
            ]
          },
          "execution_count": 7,
          "metadata": {},
          "output_type": "execute_result"
        }
      ],
      "source": [
        "boolq"
      ]
    },
    {
      "cell_type": "code",
      "execution_count": null,
      "metadata": {
        "colab": {
          "base_uri": "https://localhost:8080/"
        },
        "id": "EBSYk7HkQBBN",
        "outputId": "62842bdf-e090-49b5-dae8-fed0fc51f731"
      },
      "outputs": [
        {
          "data": {
            "text/plain": [
              "FeaturesDict({\n",
              "    'answer': bool,\n",
              "    'passage': Text(shape=(), dtype=string),\n",
              "    'question': Text(shape=(), dtype=string),\n",
              "    'title': Text(shape=(), dtype=string),\n",
              "})"
            ]
          },
          "execution_count": 6,
          "metadata": {},
          "output_type": "execute_result"
        }
      ],
      "source": [
        "boolq_info.features"
      ]
    },
    {
      "cell_type": "code",
      "execution_count": null,
      "metadata": {
        "colab": {
          "base_uri": "https://localhost:8080/"
        },
        "id": "-KBhBZgyRbyP",
        "outputId": "5a590e7b-b752-4166-a3a7-daf478d985db"
      },
      "outputs": [
        {
          "name": "stdout",
          "output_type": "stream",
          "text": [
            "bool_q train examples:  9427\n",
            "bool_q val examples:  3270\n"
          ]
        }
      ],
      "source": [
        "train_len = boolq['train'].cardinality().numpy()\n",
        "print('bool_q train examples: ', train_len)\n",
        "val_len = boolq['validation'].cardinality().numpy()\n",
        "print('bool_q val examples: ', val_len)"
      ]
    },
    {
      "cell_type": "code",
      "execution_count": null,
      "metadata": {
        "id": "CpHJkiy-QD-q"
      },
      "outputs": [],
      "source": [
        "boolq_train_data = next(iter(boolq['train'].batch(train_len)))\n",
        "boolq_val_data = next(iter(boolq['validation'].batch(val_len)))"
      ]
    },
    {
      "cell_type": "code",
      "execution_count": null,
      "metadata": {
        "colab": {
          "base_uri": "https://localhost:8080/"
        },
        "id": "6MUMuQoQSUrX",
        "outputId": "191a46e1-3fdf-462b-fceb-b728f6439e09"
      },
      "outputs": [
        {
          "name": "stdout",
          "output_type": "stream",
          "text": [
            "\n",
            "answer   : False\n",
            "passage  : b'There are four ways an individual can acquire Canadian citizenship: by birth on Canadian soil; by descent (being born to a Canadian parent); by grant (naturalization); and by adoption. Among them, only citizenship by birth is granted automatically with limited exceptions, while citizenship by descent or adoption is acquired automatically if the specified conditions have been met. Citizenship by grant, on the other hand, must be approved by the Minister of Immigration, Refugees and Citizenship.'\n",
            "question : b'can i get canadian citizenship if my grandfather was canadian'\n",
            "title    : b'Canadian nationality law'\n",
            "\n",
            "answer   : True\n",
            "passage  : b'Star Trek: Discovery is an American television series created for CBS All Access by Bryan Fuller and Alex Kurtzman. It is the first series developed specifically for that service, and the first Star Trek series since Star Trek: Enterprise concluded in 2005. Set roughly a decade before the events of the original Star Trek series and separate from the timeline of the concurrently produced feature films, Discovery explores the Federation--Klingon war while following the crew of the USS Discovery. Gretchen J. Berg and Aaron Harberts serve as showrunners on the series, with producing support from Akiva Goldsman.'\n",
            "question : b'is there a new star trek series coming'\n",
            "title    : b'Star Trek: Discovery'\n",
            "\n",
            "answer   : False\n",
            "passage  : b\"The Electric Variable Transmission (EVT) combines a transmission with an electric motor to provide the illusion of a single CVT. In the common implementation, a gasoline engine is connected to a traditional transmission, which is in turn connected to an epicyclic gear system's planet carrier. An electric motor/generator is connected to the central ``sun'' gear, which is normally un-driven in typical epicyclic systems. Both sources of power can be fed into the transmission's output at the same time, splitting power between them. In common examples, between one-quarter and half of the engine's power can be fed into the sun gear. Depending on the implementation, the transmission in front of the epicyclic system may be greatly simplified, or eliminated completely. EVTs are capable of continuously modulating output/input speed ratios like mechanical CVTs, but offer the distinct benefit of being able to also apply power from two different sources to one output, as well as potentially reducing overall complexity dramatically.\"\n",
            "question : b'is the transmission and motor the same thing'\n",
            "title    : b'Transmission (mechanics)'\n",
            "\n",
            "answer   : True\n",
            "passage  : b'System of a Down, sometimes shortened to System and abbreviated as SOAD, is an Armenian-American heavy metal band from Glendale, California, formed in 1994. The band currently consists of Serj Tankian (lead vocals, keyboards), Daron Malakian (vocals, guitar), Shavo Odadjian (bass, backing vocals) and John Dolmayan (drums).'\n",
            "question : b'does system of a down have 2 singers'\n",
            "title    : b'System of a Down'\n"
          ]
        }
      ],
      "source": [
        "# Look at the first few examples in the data\n",
        "for i in range(4):\n",
        "  print()\n",
        "  for key, value in boolq_train_data.items():\n",
        "      print(f\"{key:9s}: {value[i].numpy()}\")"
      ]
    },
    {
      "cell_type": "code",
      "execution_count": null,
      "metadata": {
        "colab": {
          "base_uri": "https://localhost:8080/"
        },
        "id": "-q2Wf0BxYp-6",
        "outputId": "70d177af-5e2e-492e-dcb4-ff70e581a59c"
      },
      "outputs": [
        {
          "data": {
            "text/plain": [
              "True     5874\n",
              "False    3553\n",
              "dtype: int64"
            ]
          },
          "execution_count": 17,
          "metadata": {},
          "output_type": "execute_result"
        }
      ],
      "source": [
        "pd.DataFrame(boolq_train_data['answer']).value_counts()"
      ]
    },
    {
      "cell_type": "markdown",
      "metadata": {
        "id": "q52oz_N9Y2tJ"
      },
      "source": [
        "### Baseline metric: predict most common class (YES)"
      ]
    },
    {
      "cell_type": "code",
      "execution_count": null,
      "metadata": {
        "colab": {
          "base_uri": "https://localhost:8080/"
        },
        "id": "h1ji6wr1Y1xw",
        "outputId": "2fbdb158-db71-4aa5-eae6-10fec091b37e"
      },
      "outputs": [
        {
          "data": {
            "text/plain": [
              "0.6231038506417736"
            ]
          },
          "execution_count": 18,
          "metadata": {},
          "output_type": "execute_result"
        }
      ],
      "source": [
        "# Baseline accuracy:\n",
        "pd.DataFrame(boolq_train_data['answer']).value_counts()[True] / boolq_train_data['answer'].shape[0]"
      ]
    },
    {
      "cell_type": "markdown",
      "metadata": {
        "id": "fk2Vb2BL8BRu"
      },
      "source": [
        "# BERT"
      ]
    },
    {
      "cell_type": "markdown",
      "metadata": {
        "id": "tcakBGUxPWr8"
      },
      "source": [
        "### Load BERT Models"
      ]
    },
    {
      "cell_type": "code",
      "execution_count": null,
      "metadata": {
        "colab": {
          "base_uri": "https://localhost:8080/",
          "height": 337,
          "referenced_widgets": [
            "d4a1326dc7f0452cb33f72877f0be47d",
            "179bd4d0abc74c948cc7f75a72836f6c",
            "91f7386df7a2464b917f869036bde895",
            "8404341d12684e879940067a67cc4777",
            "6915e3d3adc0471ebb6d588c0a76589a",
            "c5ab4fbbf4cb4a07a3245a9408b785f2",
            "f61cd25dc6964afeb4294fb7452eb295",
            "dedc8ad7274c471e9619268c3d295580",
            "8c0da89b6c4d4ce5b44f0162f7db587e",
            "f392cb1b17f443feb71443d63fa9384f",
            "d9c54e3d23aa42c483bd2f4363e4549e",
            "6a7be2879bed40d2a334c50a16b54e2b",
            "7c2818ccea0a4959a024ec837435e8d1",
            "b59d682e642b4b09a08690b8c3b2bb3f",
            "77d32bbd6304473191ac5ba711333e6a",
            "2f52b3ab55c54b48a0165318deab6001",
            "5abaae2360a743fb8111ab7b422d5e2a",
            "f8519cbdfe73424eb253610ad32c997e",
            "06ac75c22ae6455683ce37fe95743ca6",
            "026fb06c142a4e23b5c75ed3cf632f04",
            "26400d9bd1c2457c80a5e1a5ba93de25",
            "2f5acd956be04e9481a43da3fba07579",
            "0a25f553bba342728d0b0e2220f2a6cd",
            "1bc6cac6549c41b2b3cdfa561781426b",
            "31981f3325784c77a85a2aa14976003c",
            "b7a192a11a384e0aba9bdbd537417038",
            "ea2d708b12e9491d8c08609503f90b0f",
            "2107d0cd591042059d634da7326f52a0",
            "602418e1dcbc479aae04de950068ea49",
            "4a11501132c24480b9520e6629d73bea",
            "6d3650ecc1aa47339e6bcda2a5843d4c",
            "3e06b3d8b31847e6885796de6fa620cc",
            "22a6abfe0cfd41bba7ca2f40be99c89c",
            "50da32d9266b4f32bcfdf111c12db6b6",
            "a2eb63340936428f93a807bb784e3d4a",
            "83d94c9b57e046ee9c050b255ddc9446",
            "06aeda12192445c98636e8bdfdd5485d",
            "e991e1d54d99460980d959899169d0f5",
            "2bea54eef7d948f392499efec9c09a6b",
            "4a8246a558144e73b8e97274aafe860a",
            "c20d6586629949f1a2a829125cba292e",
            "13aca9474b82446cb08859f5be425511",
            "709f22d1ee4444b697c67578c3663fae",
            "83dc7455f51f47a984209dc96c540902",
            "655f1b14c89345779bd3b15d09dd66b9",
            "9e69676db6ca43438f51ed3996166c98",
            "22e585f410a049eda4c0a7bc13b4c1d3",
            "456ca0277b934cbebe6a97c1e93c604a",
            "b0809418a4ee44969f1c41139adf8c77",
            "b0d50f618d764e32839cc1a00050bcfc",
            "a4cf3e8f6cf049ccbc10680cb60ed580",
            "d3bcce24d7834155b4c848c65f52bfc5",
            "e823c97a01f84144a5072cf462730784",
            "309f6176072f48289abfbc2a7dd1a5c8",
            "fcb32816997240989a8ce6c8bac374da",
            "2d81e79d7320463ea740d2342b99dc91",
            "c9c2b42bb8574306a2b706a8a920f6af",
            "570cffc3ad2249c8ad8d038c9e89dd38",
            "c171eaeb29eb4122928ab795f01870ea",
            "0e31976e322a459aac2ec0f2fbc0c183",
            "06652dc7cd484ebabe61fc72eec3accd",
            "9854d38f9f8845c6acaf4902ae8a6e0b",
            "1726b74b0352469c8063545149fd7062",
            "d7d5153cadfb4608aec3b5168e2be0ce",
            "ebe2098f89e44e35b2e3a52d8febf8fa",
            "3d7a20bcbdbd4bd1991bf875dfeaf76b",
            "6aa1b0346cf64e7dbe678cd4c8b4174d",
            "9dea335dfb2f4d838bcfb088ad412411",
            "efe92e3f1a0b4cfdab0b41f95a66f4cc",
            "1b239a3ffcf940499473b6805aac02db",
            "01442ac9decf443a81c648d6cbb9116a",
            "1ad2c6fdec714e479b0ac64db30a0d66",
            "7d3f7bc477aa48609ee194b3efe1f256",
            "0d7774ee3fd5448db9a522cb18b3302e",
            "4ebcfe965c984e37ada49210587671ac",
            "3e9fea2593f94ec58be328b481cb8aae",
            "1321cc45ddd44f81ab7f0311d591bc5d",
            "e121d3a79c69406e99ac2f0843b88ce1",
            "43ec557da47641ac9abde5a5fc7cc1ee",
            "f0b3ef2e98da4c0c935377bc22e9a533",
            "5daf8daba53f4422bee6f3043a10c162",
            "318511d530b6460e9de6952adbec974f",
            "395932729a8c4501bf12e4d5844e15be",
            "bff7bb78109b4c95a5f4af0ea039c7fe",
            "040d52e989764b189563a8d131963f42",
            "783da91dfbe44b1e8d5fc20a18b7c80a",
            "dba39f8c95fe4357a2a761b8c9bdf0f7",
            "950a34f6d6f845a38d45cc0600e3c232",
            "e07ebf44aca445aebdb9188cec00af85",
            "c02681dc251f4f3f955326c8f26d559e",
            "04bd14b67e5b48c58ab5ac694e324fda",
            "dfdb0278357c490fa4feb41c99c28aa7",
            "a8b8dc4962b44c49b96bcb0b161b09d5",
            "9440298355674b6280f94f61472745e2",
            "be35792057ac4c96b03a41ecce0689c8",
            "f7d77f27df1f4478a364c451796303d7",
            "873f51e0efe740cf932eaf75780c36cb",
            "f0a2e45e9cdf44bc83edd4159220a091",
            "d41669ee8d764e30b9fa74c6d52b8176",
            "4d6f4a90707144c68c3e72eb1e8e85df",
            "807e93559deb45d4b5a15457ebf153bc",
            "9c13626c76c0464fa9faa1a5d8611557",
            "d2b59a37aea340c9bef006c48a738ff7",
            "0c7f28f988994aa2899334a5a7533d26",
            "b5295fadd8a7450c8065191d26517b5d",
            "946918e87ddb494baa531fd34af43aa5",
            "7e7bfc2a21004dd5b74700017d5f84f1",
            "30804d450f6b4a759ec6eadeb812bbda",
            "f32e473d2d574773b2eb04305430bb4b",
            "6cfd91b5354648c7b1ed4fdc8870b465"
          ]
        },
        "id": "ZV3E6MOaPQCC",
        "outputId": "30b66c3b-d910-45fb-ccfd-0740be1e5576"
      },
      "outputs": [
        {
          "data": {
            "application/vnd.jupyter.widget-view+json": {
              "model_id": "d4a1326dc7f0452cb33f72877f0be47d",
              "version_major": 2,
              "version_minor": 0
            },
            "text/plain": [
              "Downloading (…)okenizer_config.json:   0%|          | 0.00/28.0 [00:00<?, ?B/s]"
            ]
          },
          "metadata": {},
          "output_type": "display_data"
        },
        {
          "data": {
            "application/vnd.jupyter.widget-view+json": {
              "model_id": "6a7be2879bed40d2a334c50a16b54e2b",
              "version_major": 2,
              "version_minor": 0
            },
            "text/plain": [
              "Downloading (…)lve/main/config.json:   0%|          | 0.00/570 [00:00<?, ?B/s]"
            ]
          },
          "metadata": {},
          "output_type": "display_data"
        },
        {
          "data": {
            "application/vnd.jupyter.widget-view+json": {
              "model_id": "0a25f553bba342728d0b0e2220f2a6cd",
              "version_major": 2,
              "version_minor": 0
            },
            "text/plain": [
              "Downloading (…)solve/main/vocab.txt:   0%|          | 0.00/232k [00:00<?, ?B/s]"
            ]
          },
          "metadata": {},
          "output_type": "display_data"
        },
        {
          "data": {
            "application/vnd.jupyter.widget-view+json": {
              "model_id": "50da32d9266b4f32bcfdf111c12db6b6",
              "version_major": 2,
              "version_minor": 0
            },
            "text/plain": [
              "Downloading (…)/main/tokenizer.json:   0%|          | 0.00/466k [00:00<?, ?B/s]"
            ]
          },
          "metadata": {},
          "output_type": "display_data"
        },
        {
          "data": {
            "application/vnd.jupyter.widget-view+json": {
              "model_id": "655f1b14c89345779bd3b15d09dd66b9",
              "version_major": 2,
              "version_minor": 0
            },
            "text/plain": [
              "Downloading (…)okenizer_config.json:   0%|          | 0.00/29.0 [00:00<?, ?B/s]"
            ]
          },
          "metadata": {},
          "output_type": "display_data"
        },
        {
          "data": {
            "application/vnd.jupyter.widget-view+json": {
              "model_id": "2d81e79d7320463ea740d2342b99dc91",
              "version_major": 2,
              "version_minor": 0
            },
            "text/plain": [
              "Downloading (…)lve/main/config.json:   0%|          | 0.00/473 [00:00<?, ?B/s]"
            ]
          },
          "metadata": {},
          "output_type": "display_data"
        },
        {
          "data": {
            "application/vnd.jupyter.widget-view+json": {
              "model_id": "6aa1b0346cf64e7dbe678cd4c8b4174d",
              "version_major": 2,
              "version_minor": 0
            },
            "text/plain": [
              "Downloading (…)solve/main/vocab.txt:   0%|          | 0.00/213k [00:00<?, ?B/s]"
            ]
          },
          "metadata": {},
          "output_type": "display_data"
        },
        {
          "data": {
            "application/vnd.jupyter.widget-view+json": {
              "model_id": "e121d3a79c69406e99ac2f0843b88ce1",
              "version_major": 2,
              "version_minor": 0
            },
            "text/plain": [
              "Downloading (…)/main/tokenizer.json:   0%|          | 0.00/436k [00:00<?, ?B/s]"
            ]
          },
          "metadata": {},
          "output_type": "display_data"
        },
        {
          "data": {
            "application/vnd.jupyter.widget-view+json": {
              "model_id": "e07ebf44aca445aebdb9188cec00af85",
              "version_major": 2,
              "version_minor": 0
            },
            "text/plain": [
              "Downloading model.safetensors:   0%|          | 0.00/440M [00:00<?, ?B/s]"
            ]
          },
          "metadata": {},
          "output_type": "display_data"
        },
        {
          "data": {
            "application/vnd.jupyter.widget-view+json": {
              "model_id": "4d6f4a90707144c68c3e72eb1e8e85df",
              "version_major": 2,
              "version_minor": 0
            },
            "text/plain": [
              "Downloading model.safetensors:   0%|          | 0.00/261M [00:00<?, ?B/s]"
            ]
          },
          "metadata": {},
          "output_type": "display_data"
        }
      ],
      "source": [
        "bert_model_names = ['bert-base-uncased',\n",
        "                    'distilbert-base-cased-distilled-squad']\n",
        "\n",
        "tokenizers = [AutoTokenizer.from_pretrained(bert_model_name)\n",
        "              for bert_model_name in bert_model_names]\n",
        "bert_models = [TFAutoModel.from_pretrained(bert_model_name)\n",
        "               for bert_model_name in bert_model_names]\n",
        "bert_last_layer_num = [11, 5]"
      ]
    },
    {
      "cell_type": "code",
      "execution_count": null,
      "metadata": {
        "id": "P3i-OxmRV68F"
      },
      "outputs": [],
      "source": [
        "checkpoint_dir = '/content/drive/MyDrive/266 - Natural Language Processing/Final Project/model_checkpoints/'"
      ]
    },
    {
      "cell_type": "markdown",
      "metadata": {
        "id": "vI97CtFHQmEh"
      },
      "source": [
        "### Preprocess data for BERT"
      ]
    },
    {
      "cell_type": "code",
      "execution_count": null,
      "metadata": {
        "id": "5pIuvg3WS9_H"
      },
      "outputs": [],
      "source": [
        "def preprocess_boolq(df, tokenizer, max_length=128):\n",
        "    passages = df['passage'].numpy()\n",
        "    questions = df['question'].numpy()\n",
        "\n",
        "    text_pairs = [(passages[i].decode(), questions[i].decode())\n",
        "                  for i in range(questions.shape[0])]\n",
        "    encoded = tokenizer.batch_encode_plus(\n",
        "            text_pairs,\n",
        "            add_special_tokens=True,\n",
        "            max_length=max_length,\n",
        "            padding='max_length',\n",
        "            truncation=True,\n",
        "            return_attention_mask=True,\n",
        "            return_token_type_ids=True,\n",
        "            return_tensors=\"tf\"\n",
        "        )\n",
        "\n",
        "    return [encoded[\"input_ids\"],\n",
        "            encoded[\"attention_mask\"],\n",
        "            encoded[\"token_type_ids\"]], df['answer'].numpy()"
      ]
    },
    {
      "cell_type": "markdown",
      "metadata": {
        "id": "OfDlwajtUTQV"
      },
      "source": [
        "### Build model API"
      ]
    },
    {
      "cell_type": "code",
      "execution_count": null,
      "metadata": {
        "id": "ZVTI1XTHUM65"
      },
      "outputs": [],
      "source": [
        "# Define the function to build our Github model. It takes a pretrained bert model,\n",
        "# freezes all layers except the last transformer block, then takes the CLS\n",
        "# token output and passes it to a binary classification layer.\n",
        "\n",
        "def build_boolq_model(bert_model, max_length, last_layer_num):\n",
        "    # Freeze all but layer_11 and pooler layers\n",
        "    for w in bert_model.weights:\n",
        "        if 'layer_._%d' % last_layer_num not in w.name:\n",
        "            w._trainable = False\n",
        "\n",
        "    input_ids = keras.layers.Input(shape=(max_length), dtype=tf.int32, name='input_ids')\n",
        "    attention_masks = keras.layers.Input(shape=(max_length), dtype=tf.int32, name='attention_masks')\n",
        "    token_type_ids = keras.layers.Input(shape=(max_length), dtype=tf.int32, name='token_type_ids')\n",
        "    if bert_model.name == 'tf_distil_bert_model':\n",
        "        bert_output = bert_model(input_ids, attention_mask=attention_masks)\n",
        "    else:\n",
        "        bert_output = bert_model(input_ids, attention_mask=attention_masks, token_type_ids=token_type_ids)\n",
        "    cls_output = bert_output[0][:, 0, :]\n",
        "\n",
        "    dropout_output = keras.layers.Dropout(0.3)(cls_output)\n",
        "    final_output = keras.layers.Dense(1, activation=\"sigmoid\")(dropout_output)\n",
        "\n",
        "    model = tf.keras.models.Model(inputs=[input_ids, attention_masks, token_type_ids],\n",
        "                                  outputs=[final_output])\n",
        "    model.compile(optimizer=tf.keras.optimizers.Adam(),\n",
        "                  loss='binary_crossentropy',\n",
        "                  metrics=['accuracy'])\n",
        "    return model"
      ]
    },
    {
      "cell_type": "markdown",
      "metadata": {
        "id": "XN3W4eyuV1Ke"
      },
      "source": [
        "### Train and save models"
      ]
    },
    {
      "cell_type": "code",
      "execution_count": null,
      "metadata": {
        "id": "clGuRn-C8BQy"
      },
      "outputs": [],
      "source": [
        "max_length = 128"
      ]
    },
    {
      "cell_type": "code",
      "execution_count": null,
      "metadata": {
        "colab": {
          "base_uri": "https://localhost:8080/",
          "height": 555
        },
        "id": "s44qpituVf7H",
        "outputId": "3841dbfb-bbc8-4976-dd0e-8d8249244cb8"
      },
      "outputs": [],
      "source": [
        "boolq_models = {}\n",
        "for i in range(len(bert_model_names)):\n",
        "\n",
        "    boolq_train_inputs, boolq_train_labels = preprocess_boolq(\n",
        "        boolq_train_data, tokenizers[i], max_length)\n",
        "    boolq_val_inputs, boolq_val_labels = preprocess_boolq(\n",
        "        boolq_val_data, tokenizers[i], max_length)\n",
        "\n",
        "    sample_weight = np.ones(shape=(len(boolq_train_labels),))\n",
        "    for label in range(np.max(boolq_train_labels)+1):\n",
        "        class_weight = 1 - np.sum(boolq_train_labels == label) / len(boolq_train_labels)\n",
        "        sample_weight[boolq_train_labels == label] = class_weight\n",
        "\n",
        "    checkpoint_prefix = checkpoint_dir + 'boolq_weights_%s' % bert_model_names[i]\n",
        "    checkpoint_filepath = checkpoint_prefix + '.{epoch:02d}-{val_accuracy:.2f}.hdf5'\n",
        "    model_checkpoint_callback = tf.keras.callbacks.ModelCheckpoint(\n",
        "        filepath=checkpoint_filepath,\n",
        "        save_weights_only=True\n",
        "    )\n",
        "\n",
        "    boolq_models[bert_model_names[i]] = build_boolq_model(\n",
        "        bert_models[i],\n",
        "        max_length,\n",
        "        bert_last_layer_num[i]\n",
        "    )\n",
        "    boolq_models[bert_model_names[i]].fit(\n",
        "        boolq_train_inputs,\n",
        "        boolq_train_labels,\n",
        "        sample_weight=sample_weight,\n",
        "        validation_data=[boolq_val_inputs, boolq_val_labels],\n",
        "        epochs=5,\n",
        "        callbacks=[model_checkpoint_callback]\n",
        "    )"
      ]
    },
    {
      "cell_type": "markdown",
      "metadata": {
        "id": "LEoAd2PWtunB"
      },
      "source": [
        "### BERT analysis"
      ]
    },
    {
      "cell_type": "code",
      "execution_count": null,
      "metadata": {
        "id": "fClN0UAstykV"
      },
      "outputs": [],
      "source": [
        "# Load weights of epochs with highest val accuracy\n",
        "bert_models[0].load_weights(checkpoint_dir + 'boolq_weights_bert-base-uncased.03-0.64.hdf5', by_name=True)\n",
        "bert_models[1].load_weights(checkpoint_dir + 'boolq_weights_distilbert-base-cased-distilled-squad.01-0.65.hdf5', by_name=True)"
      ]
    },
    {
      "cell_type": "code",
      "execution_count": null,
      "metadata": {
        "id": "9ib_eogltw9a"
      },
      "outputs": [],
      "source": [
        "def plot_confusion_matrix(y_true, y_pred, label_names):\n",
        "    cm = tf.math.confusion_matrix(y_true, y_pred)\n",
        "    cm = cm/cm.numpy().sum(axis=1)[:, tf.newaxis]\n",
        "\n",
        "    plt.figure(figsize=(20,7))\n",
        "    sns.heatmap(\n",
        "        cm, annot=True,\n",
        "        xticklabels=label_names,\n",
        "        yticklabels=label_names)\n",
        "    plt.xlabel(\"Predicted\")\n",
        "    plt.ylabel(\"True\")"
      ]
    },
    {
      "cell_type": "code",
      "execution_count": null,
      "metadata": {
        "colab": {
          "base_uri": "https://localhost:8080/",
          "height": 273
        },
        "id": "3m-FldW75qst",
        "outputId": "2b329dfc-d05c-4e21-d7f8-9a73447fc924"
      },
      "outputs": [],
      "source": [
        "boolq_wrong_guesses = {}  # Save indices of wrong guesses so we can look at them later\n",
        "\n",
        "for i in range(len(bert_model_names)):\n",
        "    print(bert_model_names[i])\n",
        "\n",
        "    boolq_val_inputs, boolq_val_labels = preprocess_boolq(\n",
        "        boolq_val_data, tokenizers[i], max_length)\n",
        "\n",
        "    boolq_y_probs = boolq_models[bert_model_names[i]].predict(boolq_val_inputs)\n",
        "    boolq_y_pred = np.squeeze(boolq_y_probs >= 0.5)\n",
        "    print(classification_report(boolq_val_labels, boolq_y_pred))\n",
        "\n",
        "    plot_confusion_matrix(boolq_val_labels, boolq_y_pred, ['No', 'Yes'])\n",
        "\n",
        "    boolq_wrong_guesses[bert_model_names[i]] = np.where(boolq_val_labels != boolq_y_pred)"
      ]
    },
    {
      "cell_type": "markdown",
      "metadata": {
        "id": "oRvt50EXPLQi"
      },
      "source": [
        "# T5"
      ]
    },
    {
      "cell_type": "markdown",
      "metadata": {
        "id": "MDp36q-3PQGF"
      },
      "source": [
        "### Import and load T5 libs"
      ]
    },
    {
      "cell_type": "code",
      "execution_count": null,
      "metadata": {
        "id": "ABmQJOmnSwHh"
      },
      "outputs": [],
      "source": [
        "# Must INSTALL sentencepiece and THEN RESTART runtime to be able to instantiate the T5-finetuned tokenizer\n",
        "!pip install -q sentencepiece\n",
        "!pip install -q accelerate"
      ]
    },
    {
      "cell_type": "code",
      "execution_count": null,
      "metadata": {
        "id": "FkkG15hVb-z5"
      },
      "outputs": [],
      "source": [
        "from transformers import TFT5ForConditionalGeneration"
      ]
    },
    {
      "cell_type": "markdown",
      "metadata": {
        "id": "jliBF2jUvBN6"
      },
      "source": [
        "### T5 Base"
      ]
    },
    {
      "cell_type": "code",
      "execution_count": null,
      "metadata": {
        "colab": {
          "base_uri": "https://localhost:8080/"
        },
        "id": "fmg_CR1zPWY1",
        "outputId": "c0aeb925-b3db-4886-acb5-b53c961da933"
      },
      "outputs": [
        {
          "name": "stderr",
          "output_type": "stream",
          "text": [
            "/usr/local/lib/python3.10/dist-packages/transformers/models/t5/tokenization_t5_fast.py:155: FutureWarning: This tokenizer was incorrectly instantiated with a model max length of 512 which will be corrected in Transformers v5.\n",
            "For now, this behavior is kept to avoid breaking backwards compatibility when padding/encoding with `truncation is True`.\n",
            "- Be aware that you SHOULD NOT rely on t5-base automatically truncating your input to 512 when padding/encoding.\n",
            "- If you want to encode/pad to sequences longer than 512 you can either instantiate this tokenizer with `model_max_length` or pass `max_length` when encoding/padding.\n",
            "- To avoid this warning, please instantiate this tokenizer with `model_max_length` set to your preferred value.\n",
            "  warnings.warn(\n"
          ]
        }
      ],
      "source": [
        "tokenizer = AutoTokenizer.from_pretrained('t5-base')\n",
        "model = TFT5ForConditionalGeneration.from_pretrained('t5-base', from_pt=True)"
      ]
    },
    {
      "cell_type": "code",
      "execution_count": null,
      "metadata": {
        "id": "M17Lm0VjPiOA"
      },
      "outputs": [],
      "source": [
        "def get_answer_t5(data, i=0, max_length=128):\n",
        "    questions = data['question'].numpy()\n",
        "    passages = data['passage'].numpy()\n",
        "    input_text = []\n",
        "    input_text.append(f\"question: {questions[i].decode('utf-8')}? (1) Yes (2) No  context: {passages[i].decode('utf-8')}\")\n",
        "    features = tokenizer(input_text,\n",
        "                         return_tensors='tf',\n",
        "                         padding=True,\n",
        "                         truncation=True,\n",
        "                         max_length=max_length)\n",
        "\n",
        "    output = model.generate(input_ids=features['input_ids'],\n",
        "                attention_mask=features['attention_mask'],\n",
        "                max_length=2) # Only want one word, but all answers start with a '<pad> ' token\n",
        "\n",
        "    return tokenizer.decode(output[0])"
      ]
    },
    {
      "cell_type": "code",
      "execution_count": null,
      "metadata": {
        "colab": {
          "base_uri": "https://localhost:8080/"
        },
        "id": "Si0bTxfkSUj1",
        "outputId": "9e8d4328-1b10-44b3-c86f-639170690711"
      },
      "outputs": [
        {
          "data": {
            "text/plain": [
              "['Philadelphia', 'No', 'Hal', 'No', 'Richard', 'No', 'No', 'No', 'No', 'No']"
            ]
          },
          "execution_count": 11,
          "metadata": {},
          "output_type": "execute_result"
        }
      ],
      "source": [
        "t5_base_candidates = []\n",
        "for i in range(100):\n",
        "    t5_base_candidates.append(get_answer_t5(boolq_train_data, i).split('<pad> ')[1])\n",
        "t5_base_candidates[90:100]"
      ]
    },
    {
      "cell_type": "code",
      "execution_count": null,
      "metadata": {
        "colab": {
          "base_uri": "https://localhost:8080/"
        },
        "id": "9HHLtkB7ugAG",
        "outputId": "95649083-7f34-405c-96bd-e27f37695e3d"
      },
      "outputs": [
        {
          "name": "stdout",
          "output_type": "stream",
          "text": [
            "\n",
            "answer   : True\n",
            "passage  : b\"The NFC East is a division of the National Football League (NFL)'s National Football Conference (NFC). It currently has four members: the Philadelphia Eagles, the New York Giants, the Dallas Cowboys, and the Washington Redskins.\"\n",
            "question : b'are the eagles and cowboys in the same division'\n",
            "title    : b'NFC East'\n",
            "\n",
            "answer   : False\n",
            "passage  : b'The first season was released on Netflix on July 15, 2016. It received critical acclaim for its characterization, pacing, atmosphere, acting, soundtrack, directing, writing, and homages to 1980s genre films. The series has received several industry nominations and awards, including winning the Screen Actors Guild Award for Outstanding Performance by an Ensemble in a Drama Series in 2016, and receiving eighteen nominations for the 69th Primetime Emmy Awards, including Outstanding Drama Series. On August 31, 2016, Netflix renewed the series for a second season of nine episodes, which was released on October 27, 2017. In December 2017, Netflix ordered a third season. The Duffer Brothers intend to conclude Stranger Things with a fourth or fifth season.'\n",
            "question : b'do all of the stranger things episodes come out at once'\n",
            "title    : b'Stranger Things'\n",
            "\n",
            "answer   : True\n",
            "passage  : b'Halo: The Master Chief Collection is a compilation of first-person shooter video games in the Halo series for the Xbox One. Released on November 11, 2014, the collection was developed by 343 Industries in partnership with other studios and was published by Microsoft Studios. The collection consists of Halo: Combat Evolved Anniversary, Halo 2: Anniversary, Halo 3, and Halo 4, which were originally released on earlier Xbox platforms. Each game in the release received a graphical upgrade, with Halo 2 receiving a high-definition redesign of its audio and visuals that are exclusive to the collection. The game includes access to the live-action series Halo: Nightfall as well as the Halo 5: Guardians multiplayer beta that was available for a limited time.'\n",
            "question : b'is halo 4 in the master chief collection'\n",
            "title    : b'Halo: The Master Chief Collection'\n",
            "\n",
            "answer   : True\n",
            "passage  : b\"Cops (stylized as COPS) is an American half-hour documentary/reality legal series that follows police officers, constables, sheriff's deputies, federal agents, and state troopers during patrols and other police activities including prostitution and narcotics stings. It is one of the longest-running television programs in the United States and in May 2011 became the longest-running show on Fox with the announcement that America's Most Wanted was being canceled after 23 years (that show's host, John Walsh also appeared many times on Cops). In 2013, the program moved from Fox to the cable network Spike, now known as Paramount Network. Cops entered its 31st season on June 4, 2018.\"\n",
            "question : b'is the show cops still on the air'\n",
            "title    : b'Cops (TV series)'\n",
            "\n",
            "answer   : False\n",
            "passage  : b'Angus MacGyver (known as just MacGyver, or Mac) is a title character and the protagonist in the ABC television series MacGyver. He is played by Richard Dean Anderson. MacGyver works as a problem solver for the fictional Phoenix Foundation in Los Angeles. Educated as a scientist and with a background from a fictional United States government agency, the Department of External Services (DXS), he is a resourceful secret agent able to solve a range of problems. In addition to his scientific knowledge and inventive use of common items, he always carries a Swiss Army knife and a roll of duct tape. He prefers non-violent conflict resolution wherever possible and refuses to carry a gun but will sometimes use one (such as the AK47 rifle that he used briefly in the pilot episode). Lucas Till portrays a younger version of MacGyver in the rebooted 2016 TV series.'\n",
            "question : b\"is the new macgyver the old macgyver's son\"\n",
            "title    : b'Angus MacGyver'\n",
            "\n",
            "answer   : True\n",
            "passage  : b'An allene is a compound in which one carbon atom has double bonds with each of its two adjacent carbon centres. Allenes are classified as polyenes with cumulated dienes. The parent compound of allene is propadiene. Compounds with an allene-type structure but with more than three carbon atoms are called cumulenes. Allenes are much more reactive than most other alkenes. For example, their reactivity with gaseous chlorine is more like the reactivity of alkynes than that of alkenes.'\n",
            "question : b'can two double bonds be next to each other'\n",
            "title    : b'Allene'\n",
            "\n",
            "answer   : True\n",
            "passage  : b'Of the 71 words in this list, 67 are nouns, and most would generally be considered loanwords; the only modern-English words that contain Q not followed by U and are not borrowed from another language are qiana, qwerty, and tranq. However, all of the loanwords on this list are considered to be naturalised in English according to at least one major dictionary (see References), often because they refer to concepts or societal roles that do not have an accurate equivalent in English. For words to appear here, they must appear in their own entry in a dictionary; words which occur only as part of a longer phrase are not included.'\n",
            "question : b'is there a word that has a q but no u'\n",
            "title    : b'List of English words containing Q not followed by U'\n",
            "\n",
            "answer   : True\n",
            "passage  : b\"Blue the dog (portrayed by Traci Paige Johnson) is the main protagonist of the Blue's Clues television series. She is a playful, smart, energetic, and friendly little blue-spotted puppy who enjoys doing fun things with her friends. She is owned by Steve (later Joe). She expresses this by leaving clues around the house so everyone can guess what she wants to do. Her basic mark for leaving clues is her blue pawprint. Blue likes to eat sandwiches and drink milk. She also possesses many other human characteristics. Every episode she initiates a game of Blue's Clues in which she leaves three blue paw print clues for Steve and the viewer to find in order to answer a question. Though Blue cannot speak like most of the characters, she seems to be able to communicate with others through barking. In Blue's First Holiday, it is revealed that Blue played her first game of Blue's Clues trying to find Joe's duck blanket. Blue is high-spirited and believes in making people find things out by themselves instead of being told an answer automatically. Blue was born on a farm with many other puppies. Blue is affectionate, friendly, compassionate, and playful. She can be shy and sometimes mischievous. When she can't explain something by her usual ``bow-bow'', she makes people find out for themselves, by playing Blue's Clues. Blue's Clues is her favorite game and is always ready to play it. Blue is very sensitive and intelligent, and she can get mad or sad whenever someone does not do what she intended them to do. Fortunately, she doesn't bite when upset, as she is very friendly. She also appears in the spin-off Blue's Room, where she can talk. She first appears in an aired pilot Snack Time though she also appeared in the unaired pilot Blue Prints. Her last appearance in a Blue's Clues episode was in Bluestock. Her first appearance in a Blue's Room episode was in Snacktime Playdate and her final appearance in the series was in Music Stars\"\n",
            "question : b\"is blue of blue's clues a girl\"\n",
            "title    : b\"List of Blue's Clues characters\"\n",
            "\n",
            "answer   : True\n",
            "passage  : b\"Based on the U.S. Department of State regulation on dual citizenship (7 FAM 082), the Supreme Court of the United States has stated that dual citizenship is a ``status long recognized in the law'' and that ``a person may have and exercise rights of nationality in two countries and be subject to the responsibilities of both. The mere fact he asserts the rights of one citizenship does not, without more, mean that he renounces the other'', Kawakita v. U.S., 343 U.S. 717 (1952). In Schneider v. Rusk, 377 U.S. 163 (1964), the U.S. Supreme Court ruled that a naturalized U.S. citizen has the right to return to his native country and to resume his former citizenship, and also to remain a U.S. citizen even if he never returns to the United States.\"\n",
            "question : b'can a us born citizen have dual citizenship'\n",
            "title    : b'United States nationality law'\n",
            "\n",
            "answer   : True\n",
            "passage  : b\"Webster's Third New International Dictionary, published in 1961, went against then-standard practice when it included the following usage note in its entry on ain't: ``though disapproved by many and more common in less educated speech, used orally in most parts of the U.S. by many cultivated speakers esp. in the phrase ain't I.'' Many commentators disapproved of the dictionary's relatively permissive attitude toward the word, which was inspired, in part, by the belief of its editor, Philip Gove, that ``distinctions of usage were elitist and artificial.''\"\n",
            "question : b\"is ain't a word in the webster dictionary\"\n",
            "title    : b\"Ain't\"\n"
          ]
        }
      ],
      "source": [
        "for i in range(90, 100):\n",
        "  print()\n",
        "  for key, value in boolq_train_data.items():\n",
        "      print(f\"{key:9s}: {value[i].numpy()}\")"
      ]
    },
    {
      "cell_type": "code",
      "execution_count": null,
      "metadata": {
        "colab": {
          "base_uri": "https://localhost:8080/"
        },
        "id": "06XAPmw8tbN2",
        "outputId": "79f8f5cc-5616-46eb-f5d7-d487314424d3"
      },
      "outputs": [
        {
          "data": {
            "text/plain": [
              "No        45\n",
              "           2\n",
              "third      2\n",
              "Tom        2\n",
              "The        2\n",
              "no         2\n",
              "comedy     2\n",
              "in         1\n",
              "double     1\n",
              "each       1\n",
              "dtype: int64"
            ]
          },
          "execution_count": 13,
          "metadata": {},
          "output_type": "execute_result"
        }
      ],
      "source": [
        "pd.DataFrame(t5_base_candidates).value_counts(dropna=False)[:10]"
      ]
    },
    {
      "cell_type": "markdown",
      "metadata": {
        "id": "OExinvAavvVm"
      },
      "source": [
        "The model seems to be outputting either 'No' or a word that explains why the answer is 'Yes'.  \n",
        "So, treat any answer that is not 'No' as a 'Yes'."
      ]
    },
    {
      "cell_type": "code",
      "execution_count": null,
      "metadata": {
        "colab": {
          "base_uri": "https://localhost:8080/"
        },
        "id": "yqhI2_ZEuJJk",
        "outputId": "43869aa5-6e3f-4429-ccdb-69d0a2aed49d"
      },
      "outputs": [
        {
          "data": {
            "text/plain": [
              "[True, False, True, False, True, False, False, False, False, False]"
            ]
          },
          "execution_count": 14,
          "metadata": {},
          "output_type": "execute_result"
        }
      ],
      "source": [
        "t5_base_candidates_bool = [candidate!='No' for candidate in t5_base_candidates]\n",
        "t5_base_candidates_bool[90:100]"
      ]
    },
    {
      "cell_type": "code",
      "execution_count": null,
      "metadata": {
        "id": "7gCehR6-z9tl"
      },
      "outputs": [],
      "source": [
        "def get_accuracy(data, candidates):\n",
        "    return np.sum(np.equal(data['answer'][:len(candidates)], np.asarray(candidates))) / len(candidates)"
      ]
    },
    {
      "cell_type": "code",
      "execution_count": null,
      "metadata": {
        "colab": {
          "base_uri": "https://localhost:8080/"
        },
        "id": "S6JRCPFC044S",
        "outputId": "55d1cb56-dca2-4a6f-ee2d-656e8352ffde"
      },
      "outputs": [
        {
          "data": {
            "text/plain": [
              "0.47"
            ]
          },
          "execution_count": 16,
          "metadata": {},
          "output_type": "execute_result"
        }
      ],
      "source": [
        "get_accuracy(boolq_train_data, t5_base_candidates_bool)"
      ]
    },
    {
      "cell_type": "markdown",
      "metadata": {
        "id": "IIDsTHZ7wUOY"
      },
      "source": [
        "### T5 Base Fine-tuned for QA via Sentence Composition"
      ]
    },
    {
      "cell_type": "code",
      "execution_count": null,
      "metadata": {
        "colab": {
          "base_uri": "https://localhost:8080/",
          "height": 49,
          "referenced_widgets": [
            "e88b5f8a4e034a179180664961418368",
            "a27c8e8784a64145b81dc5d81c94ecfd",
            "ae5c13c358dc4767bd84027c982c3748",
            "4f960349104d4e649199cfe1f0167040",
            "f13aac2f9c76426da2daa9688f53576c",
            "49b0db5809fa4aacabba22f6fa759f88",
            "3b437b8550b84bfc85d4bac58245d36f",
            "c6c1e0ae622243009662384a0a76b486",
            "b5217815321843b88b96d7e775428144",
            "855b54bace0148038967ac13b990d82a",
            "69e69f137d5e409caae2bc817593200b"
          ]
        },
        "id": "Wn52pNRtweKI",
        "outputId": "8ee31662-2be4-4945-a690-b9b91cb3ad58"
      },
      "outputs": [
        {
          "data": {
            "application/vnd.jupyter.widget-view+json": {
              "model_id": "e88b5f8a4e034a179180664961418368",
              "version_major": 2,
              "version_minor": 0
            },
            "text/plain": [
              "Downloading pytorch_model.bin:   0%|          | 0.00/439M [00:00<?, ?B/s]"
            ]
          },
          "metadata": {},
          "output_type": "display_data"
        }
      ],
      "source": [
        "tokenizer = AutoTokenizer.from_pretrained('mrm8488/t5-small-finetuned-boolq')\n",
        "model = TFT5ForConditionalGeneration.from_pretrained('mrm8488/t5-small-finetuned-boolq', from_pt=True)"
      ]
    },
    {
      "cell_type": "code",
      "execution_count": null,
      "metadata": {
        "id": "ZO6lyDdsw3TL"
      },
      "outputs": [],
      "source": [
        "def get_answer_t5ft(data, i=0, max_length=128):\n",
        "    questions = data['question'].numpy()\n",
        "    passages = data['passage'].numpy()\n",
        "    input_text = []\n",
        "    input_text.append(f\"question: {questions[i].decode('utf-8')}? (A) Yes (B) No  context: {passages[i].decode('utf-8')}\")\n",
        "    features = tokenizer(input_text,\n",
        "                         return_tensors='tf',\n",
        "                         padding=True,\n",
        "                         truncation=True,\n",
        "                         max_length=max_length)\n",
        "\n",
        "    output = model.generate(input_ids=features['input_ids'],\n",
        "                attention_mask=features['attention_mask'],\n",
        "                max_length=2) # Only want one word, but all answers start with a '<pad> ' token\n",
        "\n",
        "    return tokenizer.decode(output[0])"
      ]
    },
    {
      "cell_type": "code",
      "execution_count": null,
      "metadata": {
        "colab": {
          "base_uri": "https://localhost:8080/"
        },
        "id": "MZS1vRlAw7ke",
        "outputId": "d5c906e2-0827-465e-9c1d-f8406e1ff059"
      },
      "outputs": [
        {
          "data": {
            "text/plain": [
              "['yes', 'no', 'yes', 'yes', 'no', 'yes', 'yes', 'yes', 'yes', 'yes']"
            ]
          },
          "execution_count": 19,
          "metadata": {},
          "output_type": "execute_result"
        }
      ],
      "source": [
        "t5ft_candidates = []\n",
        "for i in range(100):\n",
        "    t5ft_candidates.append(get_answer_t5ft(boolq_train_data, i).split('<pad> ')[1])\n",
        "t5ft_candidates[90:100]"
      ]
    },
    {
      "cell_type": "code",
      "execution_count": null,
      "metadata": {
        "colab": {
          "base_uri": "https://localhost:8080/"
        },
        "id": "xR3orD3_y2sQ",
        "outputId": "053b8524-d75b-47da-e95e-a9cd4d037e3b"
      },
      "outputs": [
        {
          "data": {
            "text/plain": [
              "yes    59\n",
              "no     41\n",
              "dtype: int64"
            ]
          },
          "execution_count": 20,
          "metadata": {},
          "output_type": "execute_result"
        }
      ],
      "source": [
        "pd.DataFrame(t5ft_candidates).value_counts()"
      ]
    },
    {
      "cell_type": "markdown",
      "metadata": {
        "id": "5OGhFrgNyzz3"
      },
      "source": [
        "The finetuned model performs the task much better, producing mostly only 'Yes' and 'No' answers. We will consider anything but a 'Yes' or 'No' to be a non-answer and assign it 'None'."
      ]
    },
    {
      "cell_type": "code",
      "execution_count": null,
      "metadata": {
        "colab": {
          "base_uri": "https://localhost:8080/"
        },
        "id": "4-oNbYQaxdX5",
        "outputId": "5c8f04d1-4837-4f09-c249-3e00955998aa"
      },
      "outputs": [
        {
          "data": {
            "text/plain": [
              "[True, False, True, True, False, True, True, True, True, True]"
            ]
          },
          "execution_count": 21,
          "metadata": {},
          "output_type": "execute_result"
        }
      ],
      "source": [
        "t5ft_candidates_bool = []\n",
        "for candidate in t5ft_candidates:\n",
        "    if str.lower(candidate) == 'yes':\n",
        "        val = True\n",
        "    elif str.lower(candidate) == 'no':\n",
        "        val = False\n",
        "    else:\n",
        "        val = None\n",
        "    t5ft_candidates_bool.append(val)\n",
        "t5ft_candidates_bool[90:100]"
      ]
    },
    {
      "cell_type": "code",
      "execution_count": null,
      "metadata": {
        "colab": {
          "base_uri": "https://localhost:8080/"
        },
        "id": "qhPDIpl0ydmE",
        "outputId": "ee5b200a-ac7a-4708-e5db-52ba59a6241c"
      },
      "outputs": [
        {
          "data": {
            "text/plain": [
              "0.85"
            ]
          },
          "execution_count": 22,
          "metadata": {},
          "output_type": "execute_result"
        }
      ],
      "source": [
        "get_accuracy(boolq_train_data, t5ft_candidates_bool)"
      ]
    },
    {
      "cell_type": "code",
      "execution_count": null,
      "metadata": {
        "id": "C-97t6hTnp-W"
      },
      "outputs": [],
      "source": []
    }
  ],
  "metadata": {
    "accelerator": "GPU",
    "colab": {
      "gpuType": "T4",
      "provenance": []
    },
    "kernelspec": {
      "display_name": "Python 3",
      "name": "python3"
    },
    "language_info": {
      "name": "python"
    }
  },
  "nbformat": 4,
  "nbformat_minor": 0
}
